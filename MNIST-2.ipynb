{
  "nbformat": 4,
  "nbformat_minor": 0,
  "metadata": {
    "colab": {
      "name": "MNIST-2.ipynb",
      "provenance": [],
      "toc_visible": true
    },
    "kernelspec": {
      "name": "python3",
      "display_name": "Python 3"
    },
    "accelerator": "GPU"
  },
  "cells": [
    {
      "cell_type": "markdown",
      "metadata": {
        "id": "W_CqoQ70Xkji",
        "colab_type": "text"
      },
      "source": [
        "### AIM:\n",
        "> * To design a DNN with minimum accuracy of 99.2 %"
      ]
    },
    {
      "cell_type": "markdown",
      "metadata": {
        "id": "6v43gwLTYBpX",
        "colab_type": "text"
      },
      "source": [
        "*  Splitting the dataset into training, testing and validation datasets"
      ]
    },
    {
      "cell_type": "code",
      "metadata": {
        "id": "LrDND20qXkQF",
        "colab_type": "code",
        "colab": {}
      },
      "source": [
        ""
      ],
      "execution_count": 0,
      "outputs": []
    },
    {
      "cell_type": "markdown",
      "metadata": {
        "id": "4O7t_3X1YRyR",
        "colab_type": "text"
      },
      "source": [
        "* Data Augmentation"
      ]
    },
    {
      "cell_type": "code",
      "metadata": {
        "id": "pjYfFYm9YVGt",
        "colab_type": "code",
        "colab": {}
      },
      "source": [
        ""
      ],
      "execution_count": 0,
      "outputs": []
    },
    {
      "cell_type": "markdown",
      "metadata": {
        "id": "KtpryiO5YWGl",
        "colab_type": "text"
      },
      "source": [
        "* Pre-Processing the data-set"
      ]
    },
    {
      "cell_type": "code",
      "metadata": {
        "id": "VtPCqv17Yatf",
        "colab_type": "code",
        "colab": {}
      },
      "source": [
        ""
      ],
      "execution_count": 0,
      "outputs": []
    },
    {
      "cell_type": "markdown",
      "metadata": {
        "id": "_kOpNd1qYbYT",
        "colab_type": "text"
      },
      "source": [
        "* The Structure of the Deep Neural Network/ The Architecture of the DNN"
      ]
    },
    {
      "cell_type": "code",
      "metadata": {
        "id": "6SBAjuGlYnkh",
        "colab_type": "code",
        "colab": {}
      },
      "source": [
        ""
      ],
      "execution_count": 0,
      "outputs": []
    },
    {
      "cell_type": "markdown",
      "metadata": {
        "id": "q02cwMCeYooW",
        "colab_type": "text"
      },
      "source": [
        "* Training the DNN"
      ]
    },
    {
      "cell_type": "code",
      "metadata": {
        "id": "TnSGGPU6Y3JR",
        "colab_type": "code",
        "colab": {}
      },
      "source": [
        ""
      ],
      "execution_count": 0,
      "outputs": []
    },
    {
      "cell_type": "markdown",
      "metadata": {
        "id": "ZPZRJaVNY3xB",
        "colab_type": "text"
      },
      "source": [
        "* Evaluating the accuracy"
      ]
    },
    {
      "cell_type": "code",
      "metadata": {
        "id": "-Ua_9DNLY7EC",
        "colab_type": "code",
        "colab": {}
      },
      "source": [
        ""
      ],
      "execution_count": 0,
      "outputs": []
    },
    {
      "cell_type": "markdown",
      "metadata": {
        "id": "6Eq0Bwi1Y7ji",
        "colab_type": "text"
      },
      "source": [
        "* Saving the model"
      ]
    },
    {
      "cell_type": "code",
      "metadata": {
        "id": "1ODNREOpY-nw",
        "colab_type": "code",
        "colab": {}
      },
      "source": [
        ""
      ],
      "execution_count": 0,
      "outputs": []
    },
    {
      "cell_type": "markdown",
      "metadata": {
        "id": "3ufQ4oFVY_gF",
        "colab_type": "text"
      },
      "source": [
        "* Random Testing "
      ]
    },
    {
      "cell_type": "code",
      "metadata": {
        "id": "gYeqxIseZCGg",
        "colab_type": "code",
        "colab": {}
      },
      "source": [
        ""
      ],
      "execution_count": 0,
      "outputs": []
    }
  ]
}