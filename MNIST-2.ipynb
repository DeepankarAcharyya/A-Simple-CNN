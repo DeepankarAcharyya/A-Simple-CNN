{
  "nbformat": 4,
  "nbformat_minor": 0,
  "metadata": {
    "colab": {
      "name": "MNIST-2.ipynb",
      "provenance": []
    },
    "kernelspec": {
      "name": "python3",
      "display_name": "Python 3"
    },
    "accelerator": "GPU"
  },
  "cells": [
    {
      "cell_type": "markdown",
      "metadata": {
        "id": "W_CqoQ70Xkji",
        "colab_type": "text"
      },
      "source": [
        "### AIM:\n",
        "> * To design a DNN with minimum accuracy of 99.2 %"
      ]
    },
    {
      "cell_type": "code",
      "metadata": {
        "id": "lf2GL8BHags6",
        "colab_type": "code",
        "colab": {}
      },
      "source": [
        "import matplotlib.pyplot as plt\n",
        "from keras.models import Sequential\n",
        "from keras.datasets import mnist\n",
        "from keras.layers import Dense, Conv2D, Dropout, Flatten, MaxPooling2D\n",
        "import seaborn as sns\n",
        "from sklearn.model_selection import train_test_split\n",
        "from keras.preprocessing.image import ImageDataGenerator\n",
        "\n",
        "%matplotlib inline"
      ],
      "execution_count": 0,
      "outputs": []
    },
    {
      "cell_type": "markdown",
      "metadata": {
        "id": "halC8zKTe41a",
        "colab_type": "text"
      },
      "source": [
        "* Loading the data-set"
      ]
    },
    {
      "cell_type": "code",
      "metadata": {
        "id": "Kr0oZl-7elwb",
        "colab_type": "code",
        "colab": {}
      },
      "source": [
        "(x_train,y_train),(x_test,y_test)=mnist.load_data()"
      ],
      "execution_count": 0,
      "outputs": []
    },
    {
      "cell_type": "markdown",
      "metadata": {
        "id": "VVdaf4tUbkM0",
        "colab_type": "text"
      },
      "source": [
        "* Reshaping and Normalization"
      ]
    },
    {
      "cell_type": "code",
      "metadata": {
        "id": "rtxjPzoubooV",
        "colab_type": "code",
        "colab": {
          "base_uri": "https://localhost:8080/",
          "height": 68
        },
        "outputId": "76e6a4f7-8489-4cff-db13-c5a7ad234aab"
      },
      "source": [
        "No_of_pixels=x_train.shape[1]*x_train.shape[2]\n",
        "\n",
        "x_train = x_train.reshape(x_train.shape[0], 28, 28, 1).astype('float32')\n",
        "x_test  = x_test.reshape(x_test.shape[0], 28, 28, 1).astype('float32')\n",
        "\n",
        "x_train/=255\n",
        "x_test/=255\n",
        "\n",
        "print('x_train shape:', x_train.shape)\n",
        "print('Number of images in x_train', x_train.shape[0])\n",
        "print('Number of images in x_test', x_test.shape[0])"
      ],
      "execution_count": 23,
      "outputs": [
        {
          "output_type": "stream",
          "text": [
            "x_train shape: (60000, 28, 28, 1)\n",
            "Number of images in x_train 60000\n",
            "Number of images in x_test 10000\n"
          ],
          "name": "stdout"
        }
      ]
    },
    {
      "cell_type": "code",
      "metadata": {
        "id": "6gyR_lkLj2YB",
        "colab_type": "code",
        "colab": {
          "base_uri": "https://localhost:8080/",
          "height": 267
        },
        "outputId": "c6566bb0-487c-4417-b8ff-713fd5cd1ebc"
      },
      "source": [
        "g=sns.countplot(y_train)"
      ],
      "execution_count": 24,
      "outputs": [
        {
          "output_type": "display_data",
          "data": {
            "image/png": "[encoded data removed]",
            "text/plain": [
              "<Figure size 432x288 with 1 Axes>"
            ]
          },
          "metadata": {
            "tags": []
          }
        }
      ]
    },
    {
      "cell_type": "markdown",
      "metadata": {
        "id": "6v43gwLTYBpX",
        "colab_type": "text"
      },
      "source": [
        "*  Splitting the dataset into training, testing and validation datasets"
      ]
    },
    {
      "cell_type": "code",
      "metadata": {
        "id": "LrDND20qXkQF",
        "colab_type": "code",
        "colab": {}
      },
      "source": [
        "x_train, x_val, y_train, y_val = train_test_split(x_train, y_train, test_size = 0.1)"
      ],
      "execution_count": 0,
      "outputs": []
    },
    {
      "cell_type": "markdown",
      "metadata": {
        "id": "4O7t_3X1YRyR",
        "colab_type": "text"
      },
      "source": [
        "* Data Augmentation"
      ]
    },
    {
      "cell_type": "code",
      "metadata": {
        "id": "pjYfFYm9YVGt",
        "colab_type": "code",
        "colab": {}
      },
      "source": [
        "data_generator=ImageDataGenerator(rotation_range=10,zoom_range=0.1,width_shift_range=0.1,height_shift_range=0.1)\n",
        "data_generator.fit(x_train)"
      ],
      "execution_count": 0,
      "outputs": []
    },
    {
      "cell_type": "markdown",
      "metadata": {
        "id": "3R69syUxdHIk",
        "colab_type": "text"
      },
      "source": [
        "* The Hyper-Parameters"
      ]
    },
    {
      "cell_type": "code",
      "metadata": {
        "id": "_T3cDcwndBHd",
        "colab_type": "code",
        "colab": {}
      },
      "source": [
        "No_epochs=18\n",
        "input_shape=(28,28,1)\n",
        "learning_rate=0.5\n",
        "dropout_rate=0.5\n",
        "batch_size=128"
      ],
      "execution_count": 0,
      "outputs": []
    },
    {
      "cell_type": "markdown",
      "metadata": {
        "id": "_kOpNd1qYbYT",
        "colab_type": "text"
      },
      "source": [
        "* The Structure of the Deep Neural Network/ The Architecture of the DNN"
      ]
    },
    {
      "cell_type": "code",
      "metadata": {
        "id": "6SBAjuGlYnkh",
        "colab_type": "code",
        "colab": {
          "base_uri": "https://localhost:8080/",
          "height": 493
        },
        "outputId": "77a65818-ac36-43bc-9452-8a6496fcdf06"
      },
      "source": [
        "model = Sequential()\n",
        "model.add(Conv2D(32, kernel_size=(3,3),activation='relu', input_shape=input_shape))\n",
        "model.add(MaxPooling2D(pool_size=(2, 2)))\n",
        "#model.add(Dropout(dropout_rate/2))\n",
        "model.add(Conv2D(64, kernel_size=(3,3),activation='relu'))\n",
        "model.add(MaxPooling2D(pool_size=(2, 2)))\n",
        "model.add(Dropout(dropout_rate))\n",
        "model.add(Conv2D(64, kernel_size=(3,3),activation='relu'))\n",
        "model.add(Flatten()) # Flattening the 2D arrays for fully connected layers\n",
        "model.add(Dense(64, activation='relu'))\n",
        "model.add(Dropout(dropout_rate))\n",
        "model.add(Dense(10,activation='softmax'))\n",
        "model.compile(optimizer='adam', \n",
        "              loss='sparse_categorical_crossentropy', \n",
        "              metrics=['accuracy'])\n",
        "model.summary()"
      ],
      "execution_count": 65,
      "outputs": [
        {
          "output_type": "stream",
          "text": [
            "Model: \"sequential_13\"\n",
            "_________________________________________________________________\n",
            "Layer (type)                 Output Shape              Param #   \n",
            "=================================================================\n",
            "conv2d_23 (Conv2D)           (None, 26, 26, 32)        320       \n",
            "_________________________________________________________________\n",
            "max_pooling2d_18 (MaxPooling (None, 13, 13, 32)        0         \n",
            "_________________________________________________________________\n",
            "conv2d_24 (Conv2D)           (None, 11, 11, 64)        18496     \n",
            "_________________________________________________________________\n",
            "max_pooling2d_19 (MaxPooling (None, 5, 5, 64)          0         \n",
            "_________________________________________________________________\n",
            "dropout_16 (Dropout)         (None, 5, 5, 64)          0         \n",
            "_________________________________________________________________\n",
            "conv2d_25 (Conv2D)           (None, 3, 3, 64)          36928     \n",
            "_________________________________________________________________\n",
            "flatten_13 (Flatten)         (None, 576)               0         \n",
            "_________________________________________________________________\n",
            "dense_23 (Dense)             (None, 64)                36928     \n",
            "_________________________________________________________________\n",
            "dropout_17 (Dropout)         (None, 64)                0         \n",
            "_________________________________________________________________\n",
            "dense_24 (Dense)             (None, 10)                650       \n",
            "=================================================================\n",
            "Total params: 93,322\n",
            "Trainable params: 93,322\n",
            "Non-trainable params: 0\n",
            "_________________________________________________________________\n"
          ],
          "name": "stdout"
        }
      ]
    },
    {
      "cell_type": "markdown",
      "metadata": {
        "id": "q02cwMCeYooW",
        "colab_type": "text"
      },
      "source": [
        "* Training the DNN"
      ]
    },
    {
      "cell_type": "code",
      "metadata": {
        "id": "TnSGGPU6Y3JR",
        "colab_type": "code",
        "colab": {
          "base_uri": "https://localhost:8080/",
          "height": 629
        },
        "outputId": "f025011d-ecfd-4d33-f30d-b467548c0888"
      },
      "source": [
        "history = model.fit_generator(data_generator.flow(x_train,y_train, batch_size=batch_size),epochs =No_epochs, validation_data = (x_val,y_val))"
      ],
      "execution_count": 66,
      "outputs": [
        {
          "output_type": "stream",
          "text": [
            "Epoch 1/18\n",
            "422/422 [==============================] - 14s 32ms/step - loss: 0.8225 - acc: 0.7261 - val_loss: 0.1076 - val_acc: 0.9692\n",
            "Epoch 2/18\n",
            "422/422 [==============================] - 13s 30ms/step - loss: 0.3041 - acc: 0.9113 - val_loss: 0.0653 - val_acc: 0.9802\n",
            "Epoch 3/18\n",
            "422/422 [==============================] - 13s 30ms/step - loss: 0.2259 - acc: 0.9335 - val_loss: 0.0528 - val_acc: 0.9850\n",
            "Epoch 4/18\n",
            "422/422 [==============================] - 13s 30ms/step - loss: 0.1811 - acc: 0.9481 - val_loss: 0.0485 - val_acc: 0.9860\n",
            "Epoch 5/18\n",
            "422/422 [==============================] - 13s 30ms/step - loss: 0.1614 - acc: 0.9541 - val_loss: 0.0473 - val_acc: 0.9868\n",
            "Epoch 6/18\n",
            "422/422 [==============================] - 13s 30ms/step - loss: 0.1489 - acc: 0.9583 - val_loss: 0.0423 - val_acc: 0.9893\n",
            "Epoch 7/18\n",
            "422/422 [==============================] - 12s 30ms/step - loss: 0.1319 - acc: 0.9633 - val_loss: 0.0387 - val_acc: 0.9890\n",
            "Epoch 8/18\n",
            "422/422 [==============================] - 12s 30ms/step - loss: 0.1232 - acc: 0.9656 - val_loss: 0.0379 - val_acc: 0.9888\n",
            "Epoch 9/18\n",
            "422/422 [==============================] - 13s 30ms/step - loss: 0.1168 - acc: 0.9662 - val_loss: 0.0342 - val_acc: 0.9903\n",
            "Epoch 10/18\n",
            "422/422 [==============================] - 13s 30ms/step - loss: 0.1113 - acc: 0.9688 - val_loss: 0.0336 - val_acc: 0.9892\n",
            "Epoch 11/18\n",
            "422/422 [==============================] - 12s 29ms/step - loss: 0.1047 - acc: 0.9710 - val_loss: 0.0316 - val_acc: 0.9905\n",
            "Epoch 12/18\n",
            "422/422 [==============================] - 13s 30ms/step - loss: 0.0985 - acc: 0.9723 - val_loss: 0.0314 - val_acc: 0.9920\n",
            "Epoch 13/18\n",
            "422/422 [==============================] - 12s 30ms/step - loss: 0.0957 - acc: 0.9728 - val_loss: 0.0265 - val_acc: 0.9922\n",
            "Epoch 14/18\n",
            "422/422 [==============================] - 13s 30ms/step - loss: 0.0911 - acc: 0.9743 - val_loss: 0.0263 - val_acc: 0.9920\n",
            "Epoch 15/18\n",
            "422/422 [==============================] - 13s 30ms/step - loss: 0.0876 - acc: 0.9756 - val_loss: 0.0247 - val_acc: 0.9922\n",
            "Epoch 16/18\n",
            "422/422 [==============================] - 13s 30ms/step - loss: 0.0860 - acc: 0.9765 - val_loss: 0.0306 - val_acc: 0.9910\n",
            "Epoch 17/18\n",
            "422/422 [==============================] - 13s 30ms/step - loss: 0.0828 - acc: 0.9760 - val_loss: 0.0279 - val_acc: 0.9917\n",
            "Epoch 18/18\n",
            "422/422 [==============================] - 12s 29ms/step - loss: 0.0789 - acc: 0.9779 - val_loss: 0.0300 - val_acc: 0.9907\n"
          ],
          "name": "stdout"
        }
      ]
    },
    {
      "cell_type": "markdown",
      "metadata": {
        "id": "9u8jZ38Re819",
        "colab_type": "text"
      },
      "source": [
        "* Plotting the loss v/s epochs graph"
      ]
    },
    {
      "cell_type": "code",
      "metadata": {
        "id": "YZNTMp__fMaG",
        "colab_type": "code",
        "colab": {
          "base_uri": "https://localhost:8080/",
          "height": 265
        },
        "outputId": "7748a437-1dc5-4fc8-a5ec-b94a5ce718d6"
      },
      "source": [
        "fig, ax = plt.subplots(2,1)\n",
        "ax[0].plot(history.history['loss'], color='b', label=\"Training loss\")\n",
        "ax[0].plot(history.history['val_loss'], color='r', label=\"validation loss\",axes =ax[0])\n",
        "legend = ax[0].legend(loc='best', shadow=True)\n",
        "\n",
        "ax[1].plot(history.history['acc'], color='b', label=\"Training accuracy\")\n",
        "ax[1].plot(history.history['val_acc'], color='r',label=\"Validation accuracy\")\n",
        "legend = ax[1].legend(loc='best', shadow=True)"
      ],
      "execution_count": 67,
      "outputs": [
        {
          "output_type": "display_data",
          "data": {
            "image/png": "[encoded data removed]",
            "text/plain": [
              "<Figure size 432x288 with 2 Axes>"
            ]
          },
          "metadata": {
            "tags": []
          }
        }
      ]
    },
    {
      "cell_type": "markdown",
      "metadata": {
        "id": "ZPZRJaVNY3xB",
        "colab_type": "text"
      },
      "source": [
        "* Evaluating the accuracy"
      ]
    },
    {
      "cell_type": "code",
      "metadata": {
        "id": "-Ua_9DNLY7EC",
        "colab_type": "code",
        "colab": {
          "base_uri": "https://localhost:8080/",
          "height": 51
        },
        "outputId": "e885d1fd-7a10-4197-d619-40b555544eca"
      },
      "source": [
        "model.evaluate(x_test, y_test)"
      ],
      "execution_count": 68,
      "outputs": [
        {
          "output_type": "stream",
          "text": [
            "10000/10000 [==============================] - 1s 59us/step\n"
          ],
          "name": "stdout"
        },
        {
          "output_type": "execute_result",
          "data": {
            "text/plain": [
              "[0.019612764685099683, 0.9942]"
            ]
          },
          "metadata": {
            "tags": []
          },
          "execution_count": 68
        }
      ]
    },
    {
      "cell_type": "markdown",
      "metadata": {
        "id": "3ufQ4oFVY_gF",
        "colab_type": "text"
      },
      "source": [
        "* Random Testing "
      ]
    },
    {
      "cell_type": "code",
      "metadata": {
        "id": "gYeqxIseZCGg",
        "colab_type": "code",
        "colab": {
          "base_uri": "https://localhost:8080/",
          "height": 282
        },
        "outputId": "9319748b-9f35-48c5-bbff-1bb92ed603fa"
      },
      "source": [
        "random_index=4010\n",
        "plt.imshow(x_test[random_index].reshape(28, 28),cmap='Greys')\n",
        "pred = model.predict(x_test[random_index].reshape(1, 28, 28, 1))\n",
        "print(pred.argmax())"
      ],
      "execution_count": 47,
      "outputs": [
        {
          "output_type": "stream",
          "text": [
            "1\n"
          ],
          "name": "stdout"
        },
        {
          "output_type": "display_data",
          "data": {
            "image/png": "[encoded data removed]",
            "text/plain": [
              "<Figure size 432x288 with 1 Axes>"
            ]
          },
          "metadata": {
            "tags": []
          }
        }
      ]
    },
    {
      "cell_type": "code",
      "metadata": {
        "id": "y9LxD_gRrPNY",
        "colab_type": "code",
        "colab": {}
      },
      "source": [
        ""
      ],
      "execution_count": 0,
      "outputs": []
    }
  ]
}