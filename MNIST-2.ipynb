{
  "nbformat": 4,
  "nbformat_minor": 0,
  "metadata": {
    "colab": {
      "name": "MNIST-2.ipynb",
      "provenance": []
    },
    "kernelspec": {
      "name": "python3",
      "display_name": "Python 3"
    },
    "accelerator": "GPU"
  },
  "cells": [
    {
      "cell_type": "markdown",
      "metadata": {
        "id": "W_CqoQ70Xkji",
        "colab_type": "text"
      },
      "source": [
        "### AIM:\n",
        "> * To design a DNN with minimum accuracy of 99.2 %"
      ]
    },
    {
      "cell_type": "code",
      "metadata": {
        "id": "lf2GL8BHags6",
        "colab_type": "code",
        "colab": {}
      },
      "source": [
        "import matplotlib.pyplot as plt\n",
        "from keras.models import Sequential\n",
        "from keras.datasets import mnist\n",
        "from keras.layers import Dense, Conv2D, Dropout, Flatten, MaxPooling2D\n",
        "import seaborn as sns\n",
        "from sklearn.model_selection import train_test_split\n",
        "from keras.preprocessing.image import ImageDataGenerator\n",
        "\n",
        "%matplotlib inline"
      ],
      "execution_count": 0,
      "outputs": []
    },
    {
      "cell_type": "markdown",
      "metadata": {
        "id": "halC8zKTe41a",
        "colab_type": "text"
      },
      "source": [
        "* Loading the data-set"
      ]
    },
    {
      "cell_type": "code",
      "metadata": {
        "id": "Kr0oZl-7elwb",
        "colab_type": "code",
        "colab": {}
      },
      "source": [
        "(x_train,y_train),(x_test,y_test)=mnist.load_data()"
      ],
      "execution_count": 0,
      "outputs": []
    },
    {
      "cell_type": "markdown",
      "metadata": {
        "id": "VVdaf4tUbkM0",
        "colab_type": "text"
      },
      "source": [
        "* Reshaping and Normalization"
      ]
    },
    {
      "cell_type": "code",
      "metadata": {
        "id": "rtxjPzoubooV",
        "colab_type": "code",
        "colab": {
          "base_uri": "https://localhost:8080/",
          "height": 68
        },
        "outputId": "76e6a4f7-8489-4cff-db13-c5a7ad234aab"
      },
      "source": [
        "No_of_pixels=x_train.shape[1]*x_train.shape[2]\n",
        "\n",
        "x_train = x_train.reshape(x_train.shape[0], 28, 28, 1).astype('float32')\n",
        "x_test  = x_test.reshape(x_test.shape[0], 28, 28, 1).astype('float32')\n",
        "\n",
        "x_train/=255\n",
        "x_test/=255\n",
        "\n",
        "print('x_train shape:', x_train.shape)\n",
        "print('Number of images in x_train', x_train.shape[0])\n",
        "print('Number of images in x_test', x_test.shape[0])"
      ],
      "execution_count": 23,
      "outputs": [
        {
          "output_type": "stream",
          "text": [
            "x_train shape: (60000, 28, 28, 1)\n",
            "Number of images in x_train 60000\n",
            "Number of images in x_test 10000\n"
          ],
          "name": "stdout"
        }
      ]
    },
    {
      "cell_type": "code",
      "metadata": {
        "id": "6gyR_lkLj2YB",
        "colab_type": "code",
        "colab": {
          "base_uri": "https://localhost:8080/",
          "height": 267
        },
        "outputId": "c6566bb0-487c-4417-b8ff-713fd5cd1ebc"
      },
      "source": [
        "g=sns.countplot(y_train)"
      ],
      "execution_count": 24,
      "outputs": [
        {
          "output_type": "display_data",
          "data": {
            "image/png": "[encoded data removed]",
            "text/plain": [
              "<Figure size 432x288 with 1 Axes>"
            ]
          },
          "metadata": {
            "tags": []
          }
        }
      ]
    },
    {
      "cell_type": "markdown",
      "metadata": {
        "id": "6v43gwLTYBpX",
        "colab_type": "text"
      },
      "source": [
        "*  Splitting the dataset into training, testing and validation datasets"
      ]
    },
    {
      "cell_type": "code",
      "metadata": {
        "id": "LrDND20qXkQF",
        "colab_type": "code",
        "colab": {}
      },
      "source": [
        "x_train, x_val, y_train, y_val = train_test_split(x_train, y_train, test_size = 0.1)"
      ],
      "execution_count": 0,
      "outputs": []
    },
    {
      "cell_type": "markdown",
      "metadata": {
        "id": "4O7t_3X1YRyR",
        "colab_type": "text"
      },
      "source": [
        "* Data Augmentation"
      ]
    },
    {
      "cell_type": "code",
      "metadata": {
        "id": "pjYfFYm9YVGt",
        "colab_type": "code",
        "colab": {}
      },
      "source": [
        "data_generator=ImageDataGenerator(rotation_range=10,zoom_range=0.1,width_shift_range=0.1,height_shift_range=0.1)\n",
        "data_generator.fit(x_train)"
      ],
      "execution_count": 0,
      "outputs": []
    },
    {
      "cell_type": "markdown",
      "metadata": {
        "id": "3R69syUxdHIk",
        "colab_type": "text"
      },
      "source": [
        "* The Hyper-Parameters"
      ]
    },
    {
      "cell_type": "code",
      "metadata": {
        "id": "_T3cDcwndBHd",
        "colab_type": "code",
        "colab": {}
      },
      "source": [
        "No_epochs=30\n",
        "input_shape=(28,28,1)\n",
        "learning_rate=0.5\n",
        "dropout_rate=0.3\n",
        "batch_size=128"
      ],
      "execution_count": 0,
      "outputs": []
    },
    {
      "cell_type": "markdown",
      "metadata": {
        "id": "_kOpNd1qYbYT",
        "colab_type": "text"
      },
      "source": [
        "* The Structure of the Deep Neural Network/ The Architecture of the DNN"
      ]
    },
    {
      "cell_type": "code",
      "metadata": {
        "id": "6SBAjuGlYnkh",
        "colab_type": "code",
        "colab": {
          "base_uri": "https://localhost:8080/",
          "height": 357
        },
        "outputId": "aedf0794-eb24-418e-d037-cacc5b4f0ffe"
      },
      "source": [
        "model = Sequential()\n",
        "model.add(Conv2D(28, kernel_size=(3,3), input_shape=input_shape))\n",
        "model.add(MaxPooling2D(pool_size=(2, 2)))\n",
        "model.add(Flatten()) # Flattening the 2D arrays for fully connected layers\n",
        "model.add(Dense(150, activation='relu'))\n",
        "model.add(Dropout(0.2))\n",
        "model.add(Dense(10,activation='softmax'))\n",
        "model.compile(optimizer='adam', \n",
        "              loss='sparse_categorical_crossentropy', \n",
        "              metrics=['accuracy'])\n",
        "model.summary()"
      ],
      "execution_count": 28,
      "outputs": [
        {
          "output_type": "stream",
          "text": [
            "Model: \"sequential_3\"\n",
            "_________________________________________________________________\n",
            "Layer (type)                 Output Shape              Param #   \n",
            "=================================================================\n",
            "conv2d_3 (Conv2D)            (None, 26, 26, 28)        280       \n",
            "_________________________________________________________________\n",
            "max_pooling2d_3 (MaxPooling2 (None, 13, 13, 28)        0         \n",
            "_________________________________________________________________\n",
            "flatten_3 (Flatten)          (None, 4732)              0         \n",
            "_________________________________________________________________\n",
            "dense_3 (Dense)              (None, 150)               709950    \n",
            "_________________________________________________________________\n",
            "dropout_2 (Dropout)          (None, 150)               0         \n",
            "_________________________________________________________________\n",
            "dense_4 (Dense)              (None, 10)                1510      \n",
            "=================================================================\n",
            "Total params: 711,740\n",
            "Trainable params: 711,740\n",
            "Non-trainable params: 0\n",
            "_________________________________________________________________\n"
          ],
          "name": "stdout"
        }
      ]
    },
    {
      "cell_type": "markdown",
      "metadata": {
        "id": "q02cwMCeYooW",
        "colab_type": "text"
      },
      "source": [
        "* Training the DNN"
      ]
    },
    {
      "cell_type": "code",
      "metadata": {
        "id": "TnSGGPU6Y3JR",
        "colab_type": "code",
        "colab": {
          "base_uri": "https://localhost:8080/",
          "height": 1000
        },
        "outputId": "99cdd4dc-2350-459f-dae2-08e4029f31ad"
      },
      "source": [
        "history = model.fit_generator(data_generator.flow(x_train,y_train, batch_size=batch_size),epochs =No_epochs, validation_data = (x_val,y_val))"
      ],
      "execution_count": 29,
      "outputs": [
        {
          "output_type": "stream",
          "text": [
            "Epoch 1/30\n",
            "WARNING:tensorflow:From /usr/local/lib/python3.6/dist-packages/keras/backend/tensorflow_backend.py:190: The name tf.get_default_session is deprecated. Please use tf.compat.v1.get_default_session instead.\n",
            "\n",
            "WARNING:tensorflow:From /usr/local/lib/python3.6/dist-packages/keras/backend/tensorflow_backend.py:197: The name tf.ConfigProto is deprecated. Please use tf.compat.v1.ConfigProto instead.\n",
            "\n",
            "WARNING:tensorflow:From /usr/local/lib/python3.6/dist-packages/keras/backend/tensorflow_backend.py:207: The name tf.global_variables is deprecated. Please use tf.compat.v1.global_variables instead.\n",
            "\n",
            "WARNING:tensorflow:From /usr/local/lib/python3.6/dist-packages/keras/backend/tensorflow_backend.py:216: The name tf.is_variable_initialized is deprecated. Please use tf.compat.v1.is_variable_initialized instead.\n",
            "\n",
            "WARNING:tensorflow:From /usr/local/lib/python3.6/dist-packages/keras/backend/tensorflow_backend.py:223: The name tf.variables_initializer is deprecated. Please use tf.compat.v1.variables_initializer instead.\n",
            "\n",
            "422/422 [==============================] - 26s 63ms/step - loss: 0.5802 - acc: 0.8204 - val_loss: 0.1439 - val_acc: 0.9568\n",
            "Epoch 2/30\n",
            "422/422 [==============================] - 12s 29ms/step - loss: 0.2499 - acc: 0.9236 - val_loss: 0.1044 - val_acc: 0.9703\n",
            "Epoch 3/30\n",
            "422/422 [==============================] - 12s 29ms/step - loss: 0.1952 - acc: 0.9421 - val_loss: 0.0824 - val_acc: 0.9755\n",
            "Epoch 4/30\n",
            "422/422 [==============================] - 12s 29ms/step - loss: 0.1655 - acc: 0.9500 - val_loss: 0.0763 - val_acc: 0.9763\n",
            "Epoch 5/30\n",
            "422/422 [==============================] - 12s 29ms/step - loss: 0.1470 - acc: 0.9563 - val_loss: 0.0901 - val_acc: 0.9700\n",
            "Epoch 6/30\n",
            "422/422 [==============================] - 12s 29ms/step - loss: 0.1393 - acc: 0.9573 - val_loss: 0.0568 - val_acc: 0.9808\n",
            "Epoch 7/30\n",
            "422/422 [==============================] - 12s 29ms/step - loss: 0.1329 - acc: 0.9599 - val_loss: 0.0636 - val_acc: 0.9798\n",
            "Epoch 8/30\n",
            "422/422 [==============================] - 12s 30ms/step - loss: 0.1247 - acc: 0.9617 - val_loss: 0.0882 - val_acc: 0.9717\n",
            "Epoch 9/30\n",
            "422/422 [==============================] - 12s 30ms/step - loss: 0.1157 - acc: 0.9643 - val_loss: 0.0694 - val_acc: 0.9783\n",
            "Epoch 10/30\n",
            "422/422 [==============================] - 12s 29ms/step - loss: 0.1163 - acc: 0.9639 - val_loss: 0.0810 - val_acc: 0.9742\n",
            "Epoch 11/30\n",
            "422/422 [==============================] - 12s 30ms/step - loss: 0.1047 - acc: 0.9672 - val_loss: 0.0431 - val_acc: 0.9872\n",
            "Epoch 12/30\n",
            "422/422 [==============================] - 12s 29ms/step - loss: 0.1026 - acc: 0.9688 - val_loss: 0.0438 - val_acc: 0.9868\n",
            "Epoch 13/30\n",
            "422/422 [==============================] - 12s 29ms/step - loss: 0.0970 - acc: 0.9692 - val_loss: 0.0397 - val_acc: 0.9880\n",
            "Epoch 14/30\n",
            "422/422 [==============================] - 12s 29ms/step - loss: 0.0976 - acc: 0.9698 - val_loss: 0.0469 - val_acc: 0.9853\n",
            "Epoch 15/30\n",
            "422/422 [==============================] - 12s 29ms/step - loss: 0.0953 - acc: 0.9707 - val_loss: 0.0403 - val_acc: 0.9872\n",
            "Epoch 16/30\n",
            "422/422 [==============================] - 12s 29ms/step - loss: 0.0892 - acc: 0.9728 - val_loss: 0.0394 - val_acc: 0.9877\n",
            "Epoch 17/30\n",
            "422/422 [==============================] - 12s 29ms/step - loss: 0.0893 - acc: 0.9726 - val_loss: 0.0404 - val_acc: 0.9880\n",
            "Epoch 18/30\n",
            "422/422 [==============================] - 12s 29ms/step - loss: 0.0849 - acc: 0.9730 - val_loss: 0.0486 - val_acc: 0.9857\n",
            "Epoch 19/30\n",
            "422/422 [==============================] - 12s 29ms/step - loss: 0.0840 - acc: 0.9739 - val_loss: 0.0340 - val_acc: 0.9897\n",
            "Epoch 20/30\n",
            "422/422 [==============================] - 12s 29ms/step - loss: 0.0854 - acc: 0.9734 - val_loss: 0.0515 - val_acc: 0.9855\n",
            "Epoch 21/30\n",
            "422/422 [==============================] - 12s 29ms/step - loss: 0.0810 - acc: 0.9746 - val_loss: 0.0403 - val_acc: 0.9880\n",
            "Epoch 22/30\n",
            "422/422 [==============================] - 12s 30ms/step - loss: 0.0792 - acc: 0.9751 - val_loss: 0.0367 - val_acc: 0.9882\n",
            "Epoch 23/30\n",
            "422/422 [==============================] - 12s 30ms/step - loss: 0.0769 - acc: 0.9757 - val_loss: 0.0396 - val_acc: 0.9865\n",
            "Epoch 24/30\n",
            "422/422 [==============================] - 12s 29ms/step - loss: 0.0743 - acc: 0.9777 - val_loss: 0.0415 - val_acc: 0.9890\n",
            "Epoch 25/30\n",
            "422/422 [==============================] - 12s 29ms/step - loss: 0.0764 - acc: 0.9768 - val_loss: 0.0545 - val_acc: 0.9828\n",
            "Epoch 26/30\n",
            "422/422 [==============================] - 12s 29ms/step - loss: 0.0746 - acc: 0.9774 - val_loss: 0.0533 - val_acc: 0.9818\n",
            "Epoch 27/30\n",
            "422/422 [==============================] - 12s 29ms/step - loss: 0.0756 - acc: 0.9765 - val_loss: 0.0396 - val_acc: 0.9872\n",
            "Epoch 28/30\n",
            "422/422 [==============================] - 12s 29ms/step - loss: 0.0748 - acc: 0.9761 - val_loss: 0.0357 - val_acc: 0.9888\n",
            "Epoch 29/30\n",
            "422/422 [==============================] - 12s 29ms/step - loss: 0.0742 - acc: 0.9769 - val_loss: 0.0408 - val_acc: 0.9883\n",
            "Epoch 30/30\n",
            "422/422 [==============================] - 12s 29ms/step - loss: 0.0698 - acc: 0.9788 - val_loss: 0.0530 - val_acc: 0.9828\n"
          ],
          "name": "stdout"
        }
      ]
    },
    {
      "cell_type": "markdown",
      "metadata": {
        "id": "9u8jZ38Re819",
        "colab_type": "text"
      },
      "source": [
        "* Plotting the loss v/s epochs graph"
      ]
    },
    {
      "cell_type": "code",
      "metadata": {
        "id": "YZNTMp__fMaG",
        "colab_type": "code",
        "colab": {
          "base_uri": "https://localhost:8080/",
          "height": 268
        },
        "outputId": "13b30e1c-23ac-40ce-a812-f450dff881f0"
      },
      "source": [
        "fig, ax = plt.subplots(2,1)\n",
        "ax[0].plot(history.history['loss'], color='b', label=\"Training loss\")\n",
        "ax[0].plot(history.history['val_loss'], color='r', label=\"validation loss\",axes =ax[0])\n",
        "legend = ax[0].legend(loc='best', shadow=True)\n",
        "\n",
        "ax[1].plot(history.history['acc'], color='b', label=\"Training accuracy\")\n",
        "ax[1].plot(history.history['val_acc'], color='r',label=\"Validation accuracy\")\n",
        "legend = ax[1].legend(loc='best', shadow=True)"
      ],
      "execution_count": 30,
      "outputs": [
        {
          "output_type": "display_data",
          "data": {
            "image/png": "[encoded data removed]",
            "text/plain": [
              "<Figure size 432x288 with 2 Axes>"
            ]
          },
          "metadata": {
            "tags": []
          }
        }
      ]
    },
    {
      "cell_type": "markdown",
      "metadata": {
        "id": "ZPZRJaVNY3xB",
        "colab_type": "text"
      },
      "source": [
        "* Evaluating the accuracy"
      ]
    },
    {
      "cell_type": "code",
      "metadata": {
        "id": "-Ua_9DNLY7EC",
        "colab_type": "code",
        "colab": {
          "base_uri": "https://localhost:8080/",
          "height": 51
        },
        "outputId": "e51ebded-4a6e-45a8-adb4-ad424e3b35fa"
      },
      "source": [
        "model.evaluate(x_test, y_test)"
      ],
      "execution_count": 31,
      "outputs": [
        {
          "output_type": "stream",
          "text": [
            "10000/10000 [==============================] - 1s 55us/step\n"
          ],
          "name": "stdout"
        },
        {
          "output_type": "execute_result",
          "data": {
            "text/plain": [
              "[0.05034995417597238, 0.9833]"
            ]
          },
          "metadata": {
            "tags": []
          },
          "execution_count": 31
        }
      ]
    },
    {
      "cell_type": "markdown",
      "metadata": {
        "id": "6Eq0Bwi1Y7ji",
        "colab_type": "text"
      },
      "source": [
        "* Saving the model"
      ]
    },
    {
      "cell_type": "code",
      "metadata": {
        "id": "1ODNREOpY-nw",
        "colab_type": "code",
        "colab": {}
      },
      "source": [
        ""
      ],
      "execution_count": 0,
      "outputs": []
    },
    {
      "cell_type": "markdown",
      "metadata": {
        "id": "3ufQ4oFVY_gF",
        "colab_type": "text"
      },
      "source": [
        "* Random Testing "
      ]
    },
    {
      "cell_type": "code",
      "metadata": {
        "id": "gYeqxIseZCGg",
        "colab_type": "code",
        "colab": {}
      },
      "source": [
        ""
      ],
      "execution_count": 0,
      "outputs": []
    }
  ]
}