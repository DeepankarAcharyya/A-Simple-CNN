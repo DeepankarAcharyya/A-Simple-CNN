{
  "nbformat": 4,
  "nbformat_minor": 0,
  "metadata": {
    "colab": {
      "name": "MNIST-2.ipynb",
      "provenance": []
    },
    "kernelspec": {
      "name": "python3",
      "display_name": "Python 3"
    },
    "accelerator": "GPU"
  },
  "cells": [
    {
      "cell_type": "markdown",
      "metadata": {
        "id": "W_CqoQ70Xkji",
        "colab_type": "text"
      },
      "source": [
        "### AIM:\n",
        "> * To design a DNN with minimum accuracy of 99.2 %"
      ]
    },
    {
      "cell_type": "code",
      "metadata": {
        "id": "lf2GL8BHags6",
        "colab_type": "code",
        "colab": {}
      },
      "source": [
        "import matplotlib.pyplot as plt\n",
        "from keras.models import Sequential\n",
        "from keras.datasets import mnist\n",
        "from keras.layers import Dense, Conv2D, Dropout, Flatten, MaxPooling2D\n",
        "import seaborn as sns\n",
        "from sklearn.model_selection import train_test_split\n",
        "from keras.preprocessing.image import ImageDataGenerator\n",
        "\n",
        "%matplotlib inline"
      ],
      "execution_count": 0,
      "outputs": []
    },
    {
      "cell_type": "markdown",
      "metadata": {
        "id": "halC8zKTe41a",
        "colab_type": "text"
      },
      "source": [
        "* Loading the data-set"
      ]
    },
    {
      "cell_type": "code",
      "metadata": {
        "id": "Kr0oZl-7elwb",
        "colab_type": "code",
        "colab": {}
      },
      "source": [
        "(x_train,y_train),(x_test,y_test)=mnist.load_data()"
      ],
      "execution_count": 0,
      "outputs": []
    },
    {
      "cell_type": "markdown",
      "metadata": {
        "id": "VVdaf4tUbkM0",
        "colab_type": "text"
      },
      "source": [
        "* Reshaping and Normalization"
      ]
    },
    {
      "cell_type": "code",
      "metadata": {
        "id": "rtxjPzoubooV",
        "colab_type": "code",
        "colab": {
          "base_uri": "https://localhost:8080/",
          "height": 68
        },
        "outputId": "76e6a4f7-8489-4cff-db13-c5a7ad234aab"
      },
      "source": [
        "No_of_pixels=x_train.shape[1]*x_train.shape[2]\n",
        "\n",
        "x_train = x_train.reshape(x_train.shape[0], 28, 28, 1).astype('float32')\n",
        "x_test  = x_test.reshape(x_test.shape[0], 28, 28, 1).astype('float32')\n",
        "\n",
        "x_train/=255\n",
        "x_test/=255\n",
        "\n",
        "print('x_train shape:', x_train.shape)\n",
        "print('Number of images in x_train', x_train.shape[0])\n",
        "print('Number of images in x_test', x_test.shape[0])"
      ],
      "execution_count": 23,
      "outputs": [
        {
          "output_type": "stream",
          "text": [
            "x_train shape: (60000, 28, 28, 1)\n",
            "Number of images in x_train 60000\n",
            "Number of images in x_test 10000\n"
          ],
          "name": "stdout"
        }
      ]
    },
    {
      "cell_type": "code",
      "metadata": {
        "id": "6gyR_lkLj2YB",
        "colab_type": "code",
        "colab": {
          "base_uri": "https://localhost:8080/",
          "height": 267
        },
        "outputId": "c6566bb0-487c-4417-b8ff-713fd5cd1ebc"
      },
      "source": [
        "g=sns.countplot(y_train)"
      ],
      "execution_count": 24,
      "outputs": [
        {
          "output_type": "display_data",
          "data": {
            "image/png": "[encoded data removed]",
            "text/plain": [
              "<Figure size 432x288 with 1 Axes>"
            ]
          },
          "metadata": {
            "tags": []
          }
        }
      ]
    },
    {
      "cell_type": "markdown",
      "metadata": {
        "id": "6v43gwLTYBpX",
        "colab_type": "text"
      },
      "source": [
        "*  Splitting the dataset into training, testing and validation datasets"
      ]
    },
    {
      "cell_type": "code",
      "metadata": {
        "id": "LrDND20qXkQF",
        "colab_type": "code",
        "colab": {}
      },
      "source": [
        "x_train, x_val, y_train, y_val = train_test_split(x_train, y_train, test_size = 0.1)"
      ],
      "execution_count": 0,
      "outputs": []
    },
    {
      "cell_type": "markdown",
      "metadata": {
        "id": "4O7t_3X1YRyR",
        "colab_type": "text"
      },
      "source": [
        "* Data Augmentation"
      ]
    },
    {
      "cell_type": "code",
      "metadata": {
        "id": "pjYfFYm9YVGt",
        "colab_type": "code",
        "colab": {}
      },
      "source": [
        "data_generator=ImageDataGenerator(rotation_range=10,zoom_range=0.1,width_shift_range=0.1,height_shift_range=0.1)\n",
        "data_generator.fit(x_train)"
      ],
      "execution_count": 0,
      "outputs": []
    },
    {
      "cell_type": "markdown",
      "metadata": {
        "id": "3R69syUxdHIk",
        "colab_type": "text"
      },
      "source": [
        "* The Hyper-Parameters"
      ]
    },
    {
      "cell_type": "code",
      "metadata": {
        "id": "_T3cDcwndBHd",
        "colab_type": "code",
        "colab": {}
      },
      "source": [
        "No_epochs=18\n",
        "input_shape=(28,28,1)\n",
        "learning_rate=0.5\n",
        "dropout_rate=0.5\n",
        "batch_size=128"
      ],
      "execution_count": 0,
      "outputs": []
    },
    {
      "cell_type": "markdown",
      "metadata": {
        "id": "_kOpNd1qYbYT",
        "colab_type": "text"
      },
      "source": [
        "* The Structure of the Deep Neural Network/ The Architecture of the DNN"
      ]
    },
    {
      "cell_type": "code",
      "metadata": {
        "id": "6SBAjuGlYnkh",
        "colab_type": "code",
        "colab": {
          "base_uri": "https://localhost:8080/",
          "height": 459
        },
        "outputId": "994716f1-f226-457e-e525-3e38506a9769"
      },
      "source": [
        "model = Sequential()\n",
        "model.add(Conv2D(32, kernel_size=(3,3),activation='relu', input_shape=input_shape))\n",
        "model.add(MaxPooling2D(pool_size=(2, 2)))\n",
        "model.add(Conv2D(64, kernel_size=(3,3),activation='relu'))\n",
        "model.add(MaxPooling2D(pool_size=(2, 2)))\n",
        "model.add(Conv2D(64, kernel_size=(3,3),activation='relu'))\n",
        "model.add(Flatten()) # Flattening the 2D arrays for fully connected layers\n",
        "model.add(Dense(64, activation='relu'))\n",
        "model.add(Dropout(dropout_rate))\n",
        "model.add(Dense(10,activation='softmax'))\n",
        "model.compile(optimizer='adam', \n",
        "              loss='sparse_categorical_crossentropy', \n",
        "              metrics=['accuracy'])\n",
        "model.summary()"
      ],
      "execution_count": 51,
      "outputs": [
        {
          "output_type": "stream",
          "text": [
            "Model: \"sequential_10\"\n",
            "_________________________________________________________________\n",
            "Layer (type)                 Output Shape              Param #   \n",
            "=================================================================\n",
            "conv2d_14 (Conv2D)           (None, 26, 26, 32)        320       \n",
            "_________________________________________________________________\n",
            "max_pooling2d_12 (MaxPooling (None, 13, 13, 32)        0         \n",
            "_________________________________________________________________\n",
            "conv2d_15 (Conv2D)           (None, 11, 11, 64)        18496     \n",
            "_________________________________________________________________\n",
            "max_pooling2d_13 (MaxPooling (None, 5, 5, 64)          0         \n",
            "_________________________________________________________________\n",
            "conv2d_16 (Conv2D)           (None, 3, 3, 64)          36928     \n",
            "_________________________________________________________________\n",
            "flatten_10 (Flatten)         (None, 576)               0         \n",
            "_________________________________________________________________\n",
            "dense_17 (Dense)             (None, 64)                36928     \n",
            "_________________________________________________________________\n",
            "dropout_9 (Dropout)          (None, 64)                0         \n",
            "_________________________________________________________________\n",
            "dense_18 (Dense)             (None, 10)                650       \n",
            "=================================================================\n",
            "Total params: 93,322\n",
            "Trainable params: 93,322\n",
            "Non-trainable params: 0\n",
            "_________________________________________________________________\n"
          ],
          "name": "stdout"
        }
      ]
    },
    {
      "cell_type": "markdown",
      "metadata": {
        "id": "q02cwMCeYooW",
        "colab_type": "text"
      },
      "source": [
        "* Training the DNN"
      ]
    },
    {
      "cell_type": "code",
      "metadata": {
        "id": "TnSGGPU6Y3JR",
        "colab_type": "code",
        "colab": {
          "base_uri": "https://localhost:8080/",
          "height": 649
        },
        "outputId": "8c60a508-c8bb-434c-a106-7e333f3a92af"
      },
      "source": [
        "history = model.fit_generator(data_generator.flow(x_train,y_train, batch_size=batch_size),epochs =No_epochs, validation_data = (x_val,y_val))"
      ],
      "execution_count": 52,
      "outputs": [
        {
          "output_type": "stream",
          "text": [
            "Epoch 1/18\n",
            "422/422 [==============================] - 13s 32ms/step - loss: 0.6822 - acc: 0.7787 - val_loss: 0.0912 - val_acc: 0.9713\n",
            "Epoch 2/18\n",
            "422/422 [==============================] - 13s 30ms/step - loss: 0.2356 - acc: 0.9308 - val_loss: 0.0695 - val_acc: 0.9780\n",
            "Epoch 3/18\n",
            "422/422 [==============================] - 13s 30ms/step - loss: 0.1643 - acc: 0.9525 - val_loss: 0.0613 - val_acc: 0.9845\n",
            "Epoch 4/18\n",
            "422/422 [==============================] - 13s 30ms/step - loss: 0.1413 - acc: 0.9597 - val_loss: 0.0430 - val_acc: 0.9873\n",
            "Epoch 5/18\n",
            "422/422 [==============================] - 13s 30ms/step - loss: 0.1222 - acc: 0.9657 - val_loss: 0.0393 - val_acc: 0.9882\n",
            "Epoch 6/18\n",
            "422/422 [==============================] - 13s 30ms/step - loss: 0.1058 - acc: 0.9703 - val_loss: 0.0352 - val_acc: 0.9897\n",
            "Epoch 7/18\n",
            "422/422 [==============================] - 13s 30ms/step - loss: 0.0968 - acc: 0.9726 - val_loss: 0.0353 - val_acc: 0.9907\n",
            "Epoch 8/18\n",
            "422/422 [==============================] - 13s 30ms/step - loss: 0.0889 - acc: 0.9744 - val_loss: 0.0358 - val_acc: 0.9900\n",
            "Epoch 9/18\n",
            "422/422 [==============================] - 13s 30ms/step - loss: 0.0817 - acc: 0.9774 - val_loss: 0.0363 - val_acc: 0.9903\n",
            "Epoch 10/18\n",
            "422/422 [==============================] - 13s 30ms/step - loss: 0.0768 - acc: 0.9793 - val_loss: 0.0354 - val_acc: 0.9902\n",
            "Epoch 11/18\n",
            "422/422 [==============================] - 13s 31ms/step - loss: 0.0727 - acc: 0.9804 - val_loss: 0.0359 - val_acc: 0.9905\n",
            "Epoch 12/18\n",
            "422/422 [==============================] - 13s 30ms/step - loss: 0.0700 - acc: 0.9807 - val_loss: 0.0349 - val_acc: 0.9912\n",
            "Epoch 13/18\n",
            "422/422 [==============================] - 13s 30ms/step - loss: 0.0626 - acc: 0.9823 - val_loss: 0.0348 - val_acc: 0.9897\n",
            "Epoch 14/18\n",
            "422/422 [==============================] - 13s 30ms/step - loss: 0.0619 - acc: 0.9828 - val_loss: 0.0334 - val_acc: 0.9913\n",
            "Epoch 15/18\n",
            "422/422 [==============================] - 13s 30ms/step - loss: 0.0561 - acc: 0.9840 - val_loss: 0.0350 - val_acc: 0.9908\n",
            "Epoch 16/18\n",
            "422/422 [==============================] - 13s 30ms/step - loss: 0.0571 - acc: 0.9844 - val_loss: 0.0304 - val_acc: 0.9927\n",
            "Epoch 17/18\n",
            "422/422 [==============================] - 13s 30ms/step - loss: 0.0536 - acc: 0.9851 - val_loss: 0.0356 - val_acc: 0.9915\n",
            "Epoch 18/18\n",
            "422/422 [==============================] - 13s 30ms/step - loss: 0.0533 - acc: 0.9855 - val_loss: 0.0334 - val_acc: 0.9922\n"
          ],
          "name": "stdout"
        }
      ]
    },
    {
      "cell_type": "markdown",
      "metadata": {
        "id": "9u8jZ38Re819",
        "colab_type": "text"
      },
      "source": [
        "* Plotting the loss v/s epochs graph"
      ]
    },
    {
      "cell_type": "code",
      "metadata": {
        "id": "YZNTMp__fMaG",
        "colab_type": "code",
        "colab": {
          "base_uri": "https://localhost:8080/",
          "height": 265
        },
        "outputId": "60451180-fe38-4628-9bf1-0d5e2dd17c14"
      },
      "source": [
        "fig, ax = plt.subplots(2,1)\n",
        "ax[0].plot(history.history['loss'], color='b', label=\"Training loss\")\n",
        "ax[0].plot(history.history['val_loss'], color='r', label=\"validation loss\",axes =ax[0])\n",
        "legend = ax[0].legend(loc='best', shadow=True)\n",
        "\n",
        "ax[1].plot(history.history['acc'], color='b', label=\"Training accuracy\")\n",
        "ax[1].plot(history.history['val_acc'], color='r',label=\"Validation accuracy\")\n",
        "legend = ax[1].legend(loc='best', shadow=True)"
      ],
      "execution_count": 53,
      "outputs": [
        {
          "output_type": "display_data",
          "data": {
            "image/png": "[encoded data removed]",
            "text/plain": [
              "<Figure size 432x288 with 2 Axes>"
            ]
          },
          "metadata": {
            "tags": []
          }
        }
      ]
    },
    {
      "cell_type": "markdown",
      "metadata": {
        "id": "ZPZRJaVNY3xB",
        "colab_type": "text"
      },
      "source": [
        "* Evaluating the accuracy"
      ]
    },
    {
      "cell_type": "code",
      "metadata": {
        "id": "-Ua_9DNLY7EC",
        "colab_type": "code",
        "colab": {
          "base_uri": "https://localhost:8080/",
          "height": 51
        },
        "outputId": "9e25abdc-285f-4d12-facd-ad2e240d4ba2"
      },
      "source": [
        "model.evaluate(x_test, y_test)"
      ],
      "execution_count": 54,
      "outputs": [
        {
          "output_type": "stream",
          "text": [
            "10000/10000 [==============================] - 1s 58us/step\n"
          ],
          "name": "stdout"
        },
        {
          "output_type": "execute_result",
          "data": {
            "text/plain": [
              "[0.02101381729814857, 0.9932]"
            ]
          },
          "metadata": {
            "tags": []
          },
          "execution_count": 54
        }
      ]
    },
    {
      "cell_type": "markdown",
      "metadata": {
        "id": "3ufQ4oFVY_gF",
        "colab_type": "text"
      },
      "source": [
        "* Random Testing "
      ]
    },
    {
      "cell_type": "code",
      "metadata": {
        "id": "gYeqxIseZCGg",
        "colab_type": "code",
        "colab": {
          "base_uri": "https://localhost:8080/",
          "height": 282
        },
        "outputId": "9319748b-9f35-48c5-bbff-1bb92ed603fa"
      },
      "source": [
        "random_index=4010\n",
        "plt.imshow(x_test[random_index].reshape(28, 28),cmap='Greys')\n",
        "pred = model.predict(x_test[random_index].reshape(1, 28, 28, 1))\n",
        "print(pred.argmax())"
      ],
      "execution_count": 47,
      "outputs": [
        {
          "output_type": "stream",
          "text": [
            "1\n"
          ],
          "name": "stdout"
        },
        {
          "output_type": "display_data",
          "data": {
            "image/png": "[encoded data removed]",
            "text/plain": [
              "<Figure size 432x288 with 1 Axes>"
            ]
          },
          "metadata": {
            "tags": []
          }
        }
      ]
    },
    {
      "cell_type": "code",
      "metadata": {
        "id": "y9LxD_gRrPNY",
        "colab_type": "code",
        "colab": {}
      },
      "source": [
        ""
      ],
      "execution_count": 0,
      "outputs": []
    }
  ]
}