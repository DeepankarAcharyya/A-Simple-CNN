{
  "nbformat": 4,
  "nbformat_minor": 0,
  "metadata": {
    "colab": {
      "name": "MNIST-2.ipynb",
      "provenance": []
    },
    "kernelspec": {
      "name": "python3",
      "display_name": "Python 3"
    },
    "accelerator": "GPU"
  },
  "cells": [
    {
      "cell_type": "markdown",
      "metadata": {
        "id": "W_CqoQ70Xkji",
        "colab_type": "text"
      },
      "source": [
        "### AIM:\n",
        "> * To design a DNN with minimum accuracy of 99.2 %"
      ]
    },
    {
      "cell_type": "code",
      "metadata": {
        "id": "lf2GL8BHags6",
        "colab_type": "code",
        "colab": {}
      },
      "source": [
        "import matplotlib.pyplot as plt\n",
        "from keras.models import Sequential\n",
        "from keras.datasets import mnist\n",
        "from keras.layers import Dense, Conv2D, Dropout, Flatten, MaxPooling2D\n",
        "from keras.utils import np_utils\n",
        "\n",
        "%matplotlib inline"
      ],
      "execution_count": 0,
      "outputs": []
    },
    {
      "cell_type": "markdown",
      "metadata": {
        "id": "halC8zKTe41a",
        "colab_type": "text"
      },
      "source": [
        "* Loading the data-set"
      ]
    },
    {
      "cell_type": "code",
      "metadata": {
        "id": "Kr0oZl-7elwb",
        "colab_type": "code",
        "colab": {}
      },
      "source": [
        "(x_train,y_train),(x_test,y_test)=mnist.load_data()"
      ],
      "execution_count": 0,
      "outputs": []
    },
    {
      "cell_type": "markdown",
      "metadata": {
        "id": "VVdaf4tUbkM0",
        "colab_type": "text"
      },
      "source": [
        "* Reshaping and Normalization"
      ]
    },
    {
      "cell_type": "code",
      "metadata": {
        "id": "rtxjPzoubooV",
        "colab_type": "code",
        "colab": {
          "base_uri": "https://localhost:8080/",
          "height": 68
        },
        "outputId": "d586b7b7-85b8-4190-b6b2-e5f7473fbfa7"
      },
      "source": [
        "No_of_pixels=x_train.shape[1]*x_train.shape[2]\n",
        "\n",
        "x_train = x_train.reshape(x_train.shape[0], 28, 28, 1).astype('float32')\n",
        "x_test  = x_test.reshape(x_test.shape[0], 28, 28, 1).astype('float32')\n",
        "\n",
        "x_train/=255\n",
        "x_test/=255\n",
        "\n",
        "print('x_train shape:', x_train.shape)\n",
        "print('Number of images in x_train', x_train.shape[0])\n",
        "print('Number of images in x_test', x_test.shape[0])"
      ],
      "execution_count": 10,
      "outputs": [
        {
          "output_type": "stream",
          "text": [
            "x_train shape: (60000, 28, 28, 1)\n",
            "Number of images in x_train 60000\n",
            "Number of images in x_test 10000\n"
          ],
          "name": "stdout"
        }
      ]
    },
    {
      "cell_type": "markdown",
      "metadata": {
        "id": "6v43gwLTYBpX",
        "colab_type": "text"
      },
      "source": [
        "*  Splitting the dataset into training, testing and validation datasets"
      ]
    },
    {
      "cell_type": "code",
      "metadata": {
        "id": "LrDND20qXkQF",
        "colab_type": "code",
        "colab": {}
      },
      "source": [
        ""
      ],
      "execution_count": 0,
      "outputs": []
    },
    {
      "cell_type": "markdown",
      "metadata": {
        "id": "4O7t_3X1YRyR",
        "colab_type": "text"
      },
      "source": [
        "* Data Augmentation"
      ]
    },
    {
      "cell_type": "code",
      "metadata": {
        "id": "pjYfFYm9YVGt",
        "colab_type": "code",
        "colab": {}
      },
      "source": [
        ""
      ],
      "execution_count": 0,
      "outputs": []
    },
    {
      "cell_type": "markdown",
      "metadata": {
        "id": "KtpryiO5YWGl",
        "colab_type": "text"
      },
      "source": [
        "* Pre-Processing the data-set"
      ]
    },
    {
      "cell_type": "code",
      "metadata": {
        "id": "VtPCqv17Yatf",
        "colab_type": "code",
        "colab": {}
      },
      "source": [
        ""
      ],
      "execution_count": 0,
      "outputs": []
    },
    {
      "cell_type": "markdown",
      "metadata": {
        "id": "3R69syUxdHIk",
        "colab_type": "text"
      },
      "source": [
        "* The Hyper-Parameters"
      ]
    },
    {
      "cell_type": "code",
      "metadata": {
        "id": "_T3cDcwndBHd",
        "colab_type": "code",
        "colab": {}
      },
      "source": [
        "No_epochs=30\n",
        "input_shape=(28,28,1)\n",
        "learning_rate=0.5\n",
        "dropout_rate=0.3\n",
        "batch_size=128"
      ],
      "execution_count": 0,
      "outputs": []
    },
    {
      "cell_type": "markdown",
      "metadata": {
        "id": "_kOpNd1qYbYT",
        "colab_type": "text"
      },
      "source": [
        "* The Structure of the Deep Neural Network/ The Architecture of the DNN"
      ]
    },
    {
      "cell_type": "code",
      "metadata": {
        "id": "6SBAjuGlYnkh",
        "colab_type": "code",
        "colab": {}
      },
      "source": [
        "model = Sequential()\n",
        "model.add(Conv2D(28, kernel_size=(3,3),input_shape=input_shape))\n",
        "model.add(MaxPooling2D(pool_size=(2,2)))\n"
      ],
      "execution_count": 0,
      "outputs": []
    },
    {
      "cell_type": "markdown",
      "metadata": {
        "id": "q02cwMCeYooW",
        "colab_type": "text"
      },
      "source": [
        "* Training the DNN"
      ]
    },
    {
      "cell_type": "code",
      "metadata": {
        "id": "TnSGGPU6Y3JR",
        "colab_type": "code",
        "colab": {}
      },
      "source": [
        ""
      ],
      "execution_count": 0,
      "outputs": []
    },
    {
      "cell_type": "markdown",
      "metadata": {
        "id": "9u8jZ38Re819",
        "colab_type": "text"
      },
      "source": [
        "* Plotting the loss v/s epochs graph"
      ]
    },
    {
      "cell_type": "code",
      "metadata": {
        "id": "YZNTMp__fMaG",
        "colab_type": "code",
        "colab": {}
      },
      "source": [
        ""
      ],
      "execution_count": 0,
      "outputs": []
    },
    {
      "cell_type": "markdown",
      "metadata": {
        "id": "ZPZRJaVNY3xB",
        "colab_type": "text"
      },
      "source": [
        "* Evaluating the accuracy"
      ]
    },
    {
      "cell_type": "code",
      "metadata": {
        "id": "-Ua_9DNLY7EC",
        "colab_type": "code",
        "colab": {}
      },
      "source": [
        ""
      ],
      "execution_count": 0,
      "outputs": []
    },
    {
      "cell_type": "markdown",
      "metadata": {
        "id": "6Eq0Bwi1Y7ji",
        "colab_type": "text"
      },
      "source": [
        "* Saving the model"
      ]
    },
    {
      "cell_type": "code",
      "metadata": {
        "id": "1ODNREOpY-nw",
        "colab_type": "code",
        "colab": {}
      },
      "source": [
        ""
      ],
      "execution_count": 0,
      "outputs": []
    },
    {
      "cell_type": "markdown",
      "metadata": {
        "id": "3ufQ4oFVY_gF",
        "colab_type": "text"
      },
      "source": [
        "* Random Testing "
      ]
    },
    {
      "cell_type": "code",
      "metadata": {
        "id": "gYeqxIseZCGg",
        "colab_type": "code",
        "colab": {}
      },
      "source": [
        ""
      ],
      "execution_count": 0,
      "outputs": []
    }
  ]
}